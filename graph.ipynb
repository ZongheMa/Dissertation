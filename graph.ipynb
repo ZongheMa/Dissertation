{
 "cells": [
  {
   "cell_type": "code",
   "execution_count": 5,
   "metadata": {
    "collapsed": true,
    "ExecuteTime": {
     "end_time": "2023-07-22T19:20:28.286721Z",
     "start_time": "2023-07-22T19:20:28.271093Z"
    }
   },
   "outputs": [
    {
     "ename": "ModuleNotFoundError",
     "evalue": "No module named 'geopandas'",
     "output_type": "error",
     "traceback": [
      "\u001B[0;31m---------------------------------------------------------------------------\u001B[0m",
      "\u001B[0;31mModuleNotFoundError\u001B[0m                       Traceback (most recent call last)",
      "Input \u001B[0;32mIn [5]\u001B[0m, in \u001B[0;36m<cell line: 1>\u001B[0;34m()\u001B[0m\n\u001B[0;32m----> 1\u001B[0m \u001B[38;5;28;01mimport\u001B[39;00m \u001B[38;5;21;01mgeopandas\u001B[39;00m \u001B[38;5;28;01mas\u001B[39;00m \u001B[38;5;21;01mgpd\u001B[39;00m\n\u001B[1;32m      2\u001B[0m \u001B[38;5;28;01mimport\u001B[39;00m \u001B[38;5;21;01mnetworkx\u001B[39;00m \u001B[38;5;28;01mas\u001B[39;00m \u001B[38;5;21;01mnx\u001B[39;00m\n\u001B[1;32m      3\u001B[0m \u001B[38;5;28;01mfrom\u001B[39;00m \u001B[38;5;21;01mflows\u001B[39;00m \u001B[38;5;28;01mimport\u001B[39;00m merge_csv_files\n",
      "\u001B[0;31mModuleNotFoundError\u001B[0m: No module named 'geopandas'"
     ]
    }
   ],
   "source": [
    "import geopandas as gpd\n",
    "import networkx as nx\n",
    "from flows import merge_csv_files\n",
    "import numpy as np\n",
    "import pandas as pd\n",
    "import matplotlib.pyplot as plt\n",
    "from datetime import datetime"
   ]
  },
  {
   "cell_type": "code",
   "execution_count": null,
   "outputs": [],
   "source": [
    "!pip install geopandas\n"
   ],
   "metadata": {
    "collapsed": false
   }
  },
  {
   "cell_type": "code",
   "execution_count": null,
   "outputs": [],
   "source": [
    "traffic_flows = merge_csv_files('/Users/zonghe/Library/CloudStorage/OneDrive-UniversityCollegeLondon/Zonghe Ma/Raw data/[XH]Traffic flow')\n",
    "road_network = '/Users/zonghe/Library/CloudStorage/OneDrive-UniversityCollegeLondon/Zonghe Ma/Raw data/[XH]road_network/road_network.shp'\n",
    "\n",
    "# clean the traffic flow data\n",
    "traffic_flows = traffic_flows.drop_duplicates(['toid', 'date'])\n",
    "traffic_flows = traffic_flows.groupby(['toid', 'date']).agg(\n",
    "    {'bus': 'sum', 'car': 'sum', 'cycle': 'sum', 'walks': 'sum', 'stationary': 'sum'}).reset_index()\n",
    "\n",
    "road_network = gpd.read_file(road_network, crs={'init': 'epsg:27700'})"
   ],
   "metadata": {
    "collapsed": false
   }
  },
  {
   "cell_type": "code",
   "execution_count": null,
   "outputs": [],
   "source": [
    "flows = pd.merge(\n",
    "    road_network[['toid', 'roadclassi', 'routehiera', 'geometry',\n",
    "                  'directiona', 'length', 'roadwidthm', 'elevationg'\n",
    "                  ]],\n",
    "    traffic_flows, left_on='toid', right_on='toid', how='right')\n",
    "\n",
    "# Perform the aggregation to road network level\n",
    "cycle = traffic_flows.pivot(index='toid', columns='date', values='cycle')\n",
    "\n",
    "cycle = pd.merge(road_network[['toid', 'roadclassi', 'routehiera', 'geometry',\n",
    "                               'directiona', 'length', 'roadwidthm', 'elevationg']],\n",
    "                 cycle,\n",
    "                 left_on='toid', right_on='toid', how='left').reset_index()\n",
    "# obtain the date columns\n",
    "date_columns = cycle.columns[cycle.columns.str.contains('/')]\n",
    "\n",
    "# Calculate the difference between each date column\n",
    "for i, col in enumerate(date_columns[1:], 1):\n",
    "    diff_col_name = f'diff_{col}'\n",
    "    cycle[diff_col_name] = cycle[date_columns[i]] - cycle[date_columns[i - 1]]\n",
    "\n",
    "# Calculate the sum and the difference weekly\n",
    "week_sums = cycle[date_columns].rolling(window=7, axis=1).sum().iloc[:, 6::7]\n",
    "week_sums.rename(columns={col: f'sum_week_{i}' for i, col in enumerate(week_sums.columns, 1)}, inplace=True)"
   ],
   "metadata": {
    "collapsed": false
   }
  },
  {
   "cell_type": "code",
   "execution_count": null,
   "outputs": [],
   "source": [
    "cycle = pd.concat([cycle, week_sums], axis=1)\n",
    "cycle['diff_week_1&2'] = cycle['sum_week_2'] - cycle['sum_week_1']\n",
    "cycle['diff_week_2&3'] = cycle['sum_week_3'] - cycle['sum_week_2']\n",
    "\n",
    "# re classify the road class\n",
    "# print(cycle['roadclassi'].unique())\n",
    "# ['Unknown' 'Not Classified' 'Unclassified' 'B Road' 'A Road' 'Classified Unnumbered' 'Motorway']\n",
    "# print(cycle['directiona'].unique())\n",
    "# ['bothDirections' 'inOppositeDirection' 'inDirection']\n",
    "\n",
    "cycle['classification'] = cycle['roadclassi'].replace(\n",
    "    {'Unknown': 'Other', 'Not Classified': 'Other', 'Unclassified': 'Other', 'Classified Unnumbered': 'Other'})\n",
    "cycle.drop(columns=['roadclassi', 'index', 'routehiera'], inplace=True)"
   ],
   "metadata": {
    "collapsed": false
   }
  },
  {
   "cell_type": "code",
   "execution_count": null,
   "outputs": [],
   "source": [
    "flows_gdf = cycle"
   ],
   "metadata": {
    "collapsed": false
   }
  },
  {
   "cell_type": "code",
   "execution_count": null,
   "outputs": [],
   "source": [
    "# 创建一个空的无向图\n",
    "graph = nx.Graph()\n",
    "\n",
    "# 遍历 'flows' 数据，添加节点和边\n",
    "for index, row in flows_gdf.iterrows():\n",
    "    from_node = row['geometry'].coords[0]  # 路的起点\n",
    "    to_node = row['geometry'].coords[-1]   # 路的终点\n",
    "    flow = row['03/01/22']                   # Link 的权重，即 Flows\n",
    "\n",
    "    # 添加节点到图中\n",
    "    graph.add_node(from_node)\n",
    "    graph.add_node(to_node)\n",
    "\n",
    "    # 添加边到图中，注意这里将 (from_node, to_node) 和 (to_node, from_node) 两个方向的边都加入，因为是无向图\n",
    "    graph.add_edge(from_node, to_node, weight=flow)\n",
    "    graph.add_edge(to_node, from_node, weight=flow)\n",
    "\n",
    "# 现在，你已经成功地将 Geodataframe 构建成了一个图，并且每条路是图的边，路的起终点是节点，Link 的权重为 Flows。\n",
    "\n",
    "\n"
   ],
   "metadata": {
    "collapsed": false
   }
  },
  {
   "cell_type": "code",
   "execution_count": null,
   "outputs": [],
   "source": [
    "# 创建一个图形窗口\n",
    "plt.figure(figsize=(10, 8))\n",
    "\n",
    "# 使用Spring布局算法布局节点\n",
    "pos = nx.spring_layout(graph, seed=42)\n",
    "\n",
    "# 绘制节点\n",
    "nx.draw_networkx_nodes(graph, pos, node_size=200, node_color='skyblue')\n",
    "\n",
    "# 绘制边\n",
    "nx.draw_networkx_edges(graph, pos, width=1.5, alpha=0.7, edge_color='gray')\n",
    "\n",
    "# 绘制节点标签\n",
    "nx.draw_networkx_labels(graph, pos, font_size=10, font_color='black')\n",
    "\n",
    "# 显示边的权重（Flows）\n",
    "edge_labels = nx.get_edge_attributes(graph, 'weight')\n",
    "nx.draw_networkx_edge_labels(graph, pos, edge_labels=edge_labels, font_size=8)\n",
    "\n",
    "# 设置图的标题和坐标轴\n",
    "plt.title(\"无向图可视化\")\n",
    "plt.axis('off')\n",
    "\n",
    "# 显示图形\n",
    "plt.show()"
   ],
   "metadata": {
    "collapsed": false
   }
  },
  {
   "cell_type": "code",
   "execution_count": null,
   "outputs": [],
   "source": [],
   "metadata": {
    "collapsed": false
   }
  }
 ],
 "metadata": {
  "kernelspec": {
   "display_name": "Python 3",
   "language": "python",
   "name": "python3"
  },
  "language_info": {
   "codemirror_mode": {
    "name": "ipython",
    "version": 2
   },
   "file_extension": ".py",
   "mimetype": "text/x-python",
   "name": "python",
   "nbconvert_exporter": "python",
   "pygments_lexer": "ipython2",
   "version": "2.7.6"
  }
 },
 "nbformat": 4,
 "nbformat_minor": 0
}
