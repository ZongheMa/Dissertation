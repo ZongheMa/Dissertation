{
 "cells": [
  {
   "cell_type": "code",
   "execution_count": 1,
   "outputs": [
    {
     "name": "stderr",
     "output_type": "stream",
     "text": [
      "/opt/anaconda3/envs/geospatial/lib/python3.8/site-packages/geopandas/_compat.py:124: UserWarning: The Shapely GEOS version (3.11.1-CAPI-1.17.1) is incompatible with the GEOS version PyGEOS was compiled with (3.10.4-CAPI-1.16.2). Conversions between both will be slow.\n",
      "  warnings.warn(\n",
      "/var/folders/1k/27mkp8bj3ps60c3nmr7rbqzh0000gn/T/ipykernel_20138/3054088700.py:1: DeprecationWarning: Shapely 2.0 is installed, but because PyGEOS is also installed, GeoPandas still uses PyGEOS by default. However, starting with version 0.14, the default will switch to Shapely. To force to use Shapely 2.0 now, you can either uninstall PyGEOS or set the environment variable USE_PYGEOS=0. You can do this before starting the Python process, or in your code before importing geopandas:\n",
      "\n",
      "import os\n",
      "os.environ['USE_PYGEOS'] = '0'\n",
      "import geopandas\n",
      "\n",
      "In the next release, GeoPandas will switch to using Shapely by default, even if PyGEOS is installed. If you only have PyGEOS installed to get speed-ups, this switch should be smooth. However, if you are using PyGEOS directly (calling PyGEOS functions on geometries from GeoPandas), this will then stop working and you are encouraged to migrate from PyGEOS to Shapely 2.0 (https://shapely.readthedocs.io/en/latest/migration_pygeos.html).\n",
      "  import geopandas as gpd\n"
     ]
    }
   ],
   "source": [
    "import geopandas as gpd\n",
    "import networkx as nx\n",
    "import numpy as np\n",
    "import pandas as pd\n",
    "import matplotlib.pyplot as plt\n",
    "from datetime import datetime\n",
    "import os\n",
    "from tqdm import tqdm\n",
    "import IPython.display as display\n",
    "import copy\n",
    "import seaborn as sns"
   ],
   "metadata": {
    "collapsed": false,
    "ExecuteTime": {
     "end_time": "2023-08-13T21:55:12.529915Z",
     "start_time": "2023-08-13T21:55:12.272769Z"
    }
   },
   "id": "1747391cd6880ed2"
  },
  {
   "cell_type": "code",
   "execution_count": 2,
   "outputs": [
    {
     "data": {
      "text/plain": "date                     toid        mode classification  \\\n0        osgb4000000027865921         bus       Motorway   \n1        osgb4000000027865921         car       Motorway   \n2        osgb4000000027865921       cycle       Motorway   \n3        osgb4000000027865921  stationary       Motorway   \n4        osgb4000000027865921       total       Motorway   \n...                       ...         ...            ...   \n1742635  osgb5000005242182149         car     Local Road   \n1742636  osgb5000005242182149       cycle     Local Road   \n1742637  osgb5000005242182149  stationary     Local Road   \n1742638  osgb5000005242182149       total     Local Road   \n1742639  osgb5000005242182149       walks     Local Road   \n\ndate                                              geometry      Boundary  \\\n0        LINESTRING (531539.442 200769.874, 531592.988 ...  Outer London   \n1        LINESTRING (531539.442 200769.874, 531592.988 ...  Outer London   \n2        LINESTRING (531539.442 200769.874, 531592.988 ...  Outer London   \n3        LINESTRING (531539.442 200769.874, 531592.988 ...  Outer London   \n4        LINESTRING (531539.442 200769.874, 531592.988 ...  Outer London   \n...                                                    ...           ...   \n1742635  LINESTRING (543548.945 179236.408, 543554.000 ...  Inner London   \n1742636  LINESTRING (543548.945 179236.408, 543554.000 ...  Inner London   \n1742637  LINESTRING (543548.945 179236.408, 543554.000 ...  Inner London   \n1742638  LINESTRING (543548.945 179236.408, 543554.000 ...  Inner London   \n1742639  LINESTRING (543548.945 179236.408, 543554.000 ...  Inner London   \n\ndate    cycle_lane bus_lane   boroughs  03/01/22  02/22/22  03/08/22  \\\n0                n        n    Enfield        16        11        12   \n1                n        n    Enfield      1041      1100      1081   \n2                n        n    Enfield        14         4         7   \n3                n        n    Enfield         2         0         1   \n4                n        n    Enfield      1095      1151      1122   \n...            ...      ...        ...       ...       ...       ...   \n1742635          n        n  Greenwich        33        54        51   \n1742636          n        n  Greenwich         2         1         1   \n1742637          n        n  Greenwich         3         4         5   \n1742638          n        n  Greenwich        50        74        70   \n1742639          n        n  Greenwich        11        14        12   \n\ndate     impact_flow  recovery_flow  impact_rate  recovery_rate  \n0                  5             -4       0.4545        -0.2500  \n1                -59             40      -0.0536         0.0384  \n2                 10             -7       2.5000        -0.5000  \n3                  2             -1       0.0000        -0.5000  \n4                -56             27      -0.0487         0.0247  \n...              ...            ...          ...            ...  \n1742635          -21             18      -0.3889         0.5455  \n1742636            1             -1       1.0000        -0.5000  \n1742637           -1              2      -0.2500         0.6667  \n1742638          -24             20      -0.3243         0.4000  \n1742639           -3              1      -0.2143         0.0909  \n\n[1742640 rows x 15 columns]",
      "text/html": "<div>\n<style scoped>\n    .dataframe tbody tr th:only-of-type {\n        vertical-align: middle;\n    }\n\n    .dataframe tbody tr th {\n        vertical-align: top;\n    }\n\n    .dataframe thead th {\n        text-align: right;\n    }\n</style>\n<table border=\"1\" class=\"dataframe\">\n  <thead>\n    <tr style=\"text-align: right;\">\n      <th>date</th>\n      <th>toid</th>\n      <th>mode</th>\n      <th>classification</th>\n      <th>geometry</th>\n      <th>Boundary</th>\n      <th>cycle_lane</th>\n      <th>bus_lane</th>\n      <th>boroughs</th>\n      <th>03/01/22</th>\n      <th>02/22/22</th>\n      <th>03/08/22</th>\n      <th>impact_flow</th>\n      <th>recovery_flow</th>\n      <th>impact_rate</th>\n      <th>recovery_rate</th>\n    </tr>\n  </thead>\n  <tbody>\n    <tr>\n      <th>0</th>\n      <td>osgb4000000027865921</td>\n      <td>bus</td>\n      <td>Motorway</td>\n      <td>LINESTRING (531539.442 200769.874, 531592.988 ...</td>\n      <td>Outer London</td>\n      <td>n</td>\n      <td>n</td>\n      <td>Enfield</td>\n      <td>16</td>\n      <td>11</td>\n      <td>12</td>\n      <td>5</td>\n      <td>-4</td>\n      <td>0.4545</td>\n      <td>-0.2500</td>\n    </tr>\n    <tr>\n      <th>1</th>\n      <td>osgb4000000027865921</td>\n      <td>car</td>\n      <td>Motorway</td>\n      <td>LINESTRING (531539.442 200769.874, 531592.988 ...</td>\n      <td>Outer London</td>\n      <td>n</td>\n      <td>n</td>\n      <td>Enfield</td>\n      <td>1041</td>\n      <td>1100</td>\n      <td>1081</td>\n      <td>-59</td>\n      <td>40</td>\n      <td>-0.0536</td>\n      <td>0.0384</td>\n    </tr>\n    <tr>\n      <th>2</th>\n      <td>osgb4000000027865921</td>\n      <td>cycle</td>\n      <td>Motorway</td>\n      <td>LINESTRING (531539.442 200769.874, 531592.988 ...</td>\n      <td>Outer London</td>\n      <td>n</td>\n      <td>n</td>\n      <td>Enfield</td>\n      <td>14</td>\n      <td>4</td>\n      <td>7</td>\n      <td>10</td>\n      <td>-7</td>\n      <td>2.5000</td>\n      <td>-0.5000</td>\n    </tr>\n    <tr>\n      <th>3</th>\n      <td>osgb4000000027865921</td>\n      <td>stationary</td>\n      <td>Motorway</td>\n      <td>LINESTRING (531539.442 200769.874, 531592.988 ...</td>\n      <td>Outer London</td>\n      <td>n</td>\n      <td>n</td>\n      <td>Enfield</td>\n      <td>2</td>\n      <td>0</td>\n      <td>1</td>\n      <td>2</td>\n      <td>-1</td>\n      <td>0.0000</td>\n      <td>-0.5000</td>\n    </tr>\n    <tr>\n      <th>4</th>\n      <td>osgb4000000027865921</td>\n      <td>total</td>\n      <td>Motorway</td>\n      <td>LINESTRING (531539.442 200769.874, 531592.988 ...</td>\n      <td>Outer London</td>\n      <td>n</td>\n      <td>n</td>\n      <td>Enfield</td>\n      <td>1095</td>\n      <td>1151</td>\n      <td>1122</td>\n      <td>-56</td>\n      <td>27</td>\n      <td>-0.0487</td>\n      <td>0.0247</td>\n    </tr>\n    <tr>\n      <th>...</th>\n      <td>...</td>\n      <td>...</td>\n      <td>...</td>\n      <td>...</td>\n      <td>...</td>\n      <td>...</td>\n      <td>...</td>\n      <td>...</td>\n      <td>...</td>\n      <td>...</td>\n      <td>...</td>\n      <td>...</td>\n      <td>...</td>\n      <td>...</td>\n      <td>...</td>\n    </tr>\n    <tr>\n      <th>1742635</th>\n      <td>osgb5000005242182149</td>\n      <td>car</td>\n      <td>Local Road</td>\n      <td>LINESTRING (543548.945 179236.408, 543554.000 ...</td>\n      <td>Inner London</td>\n      <td>n</td>\n      <td>n</td>\n      <td>Greenwich</td>\n      <td>33</td>\n      <td>54</td>\n      <td>51</td>\n      <td>-21</td>\n      <td>18</td>\n      <td>-0.3889</td>\n      <td>0.5455</td>\n    </tr>\n    <tr>\n      <th>1742636</th>\n      <td>osgb5000005242182149</td>\n      <td>cycle</td>\n      <td>Local Road</td>\n      <td>LINESTRING (543548.945 179236.408, 543554.000 ...</td>\n      <td>Inner London</td>\n      <td>n</td>\n      <td>n</td>\n      <td>Greenwich</td>\n      <td>2</td>\n      <td>1</td>\n      <td>1</td>\n      <td>1</td>\n      <td>-1</td>\n      <td>1.0000</td>\n      <td>-0.5000</td>\n    </tr>\n    <tr>\n      <th>1742637</th>\n      <td>osgb5000005242182149</td>\n      <td>stationary</td>\n      <td>Local Road</td>\n      <td>LINESTRING (543548.945 179236.408, 543554.000 ...</td>\n      <td>Inner London</td>\n      <td>n</td>\n      <td>n</td>\n      <td>Greenwich</td>\n      <td>3</td>\n      <td>4</td>\n      <td>5</td>\n      <td>-1</td>\n      <td>2</td>\n      <td>-0.2500</td>\n      <td>0.6667</td>\n    </tr>\n    <tr>\n      <th>1742638</th>\n      <td>osgb5000005242182149</td>\n      <td>total</td>\n      <td>Local Road</td>\n      <td>LINESTRING (543548.945 179236.408, 543554.000 ...</td>\n      <td>Inner London</td>\n      <td>n</td>\n      <td>n</td>\n      <td>Greenwich</td>\n      <td>50</td>\n      <td>74</td>\n      <td>70</td>\n      <td>-24</td>\n      <td>20</td>\n      <td>-0.3243</td>\n      <td>0.4000</td>\n    </tr>\n    <tr>\n      <th>1742639</th>\n      <td>osgb5000005242182149</td>\n      <td>walks</td>\n      <td>Local Road</td>\n      <td>LINESTRING (543548.945 179236.408, 543554.000 ...</td>\n      <td>Inner London</td>\n      <td>n</td>\n      <td>n</td>\n      <td>Greenwich</td>\n      <td>11</td>\n      <td>14</td>\n      <td>12</td>\n      <td>-3</td>\n      <td>1</td>\n      <td>-0.2143</td>\n      <td>0.0909</td>\n    </tr>\n  </tbody>\n</table>\n<p>1742640 rows × 15 columns</p>\n</div>"
     },
     "execution_count": 2,
     "metadata": {},
     "output_type": "execute_result"
    }
   ],
   "source": [
    "def merge_csv_files(directory):\n",
    "    # Get a list of all the csv files\n",
    "    csv_files = [f for f in os.listdir(directory) if f.endswith('.csv')]\n",
    "\n",
    "    # Initialize an empty list to hold dataframes\n",
    "    dfs = []\n",
    "\n",
    "    # Loop through csv files, read each into a dataframe, and append to the list\n",
    "    for file in csv_files:\n",
    "        # Extract date from filename, assuming the date is in format 'traffic_flow_YYYY_MM_DD'\n",
    "        date_str = file.split('.')[0].split('_')[-3:]  # This gives ['YYYY', 'MM', 'DD']\n",
    "        date = datetime.strptime('_'.join(date_str), '%Y_%m_%d').date()\n",
    "\n",
    "        df = pd.read_csv(os.path.join(directory, file))\n",
    "\n",
    "        # Add date as a new column\n",
    "        df['date'] = date.strftime('%m/%d/%y')\n",
    "\n",
    "        dfs.append(df)\n",
    "\n",
    "    # Concatenate all dataframes in the list into one dataframe\n",
    "    merged_df = pd.concat(dfs, ignore_index=True).drop_duplicates()\n",
    "\n",
    "    # Return the merged dataframe\n",
    "    return merged_df\n",
    "\n",
    "\n",
    "traffic_flows = merge_csv_files(\n",
    "    '/Users/zonghe/Library/CloudStorage/OneDrive-UniversityCollegeLondon/Zonghe Ma/Raw data/[XH]Traffic flow')\n",
    "road_network = '/Users/zonghe/Library/CloudStorage/OneDrive-UniversityCollegeLondon/Zonghe Ma/Raw data/[XH]road_network/road_network.shp'\n",
    "\n",
    "# clean the traffic flow data\n",
    "traffic_flows = traffic_flows.drop_duplicates(['toid', 'date'])\n",
    "traffic_flows = traffic_flows.groupby(['toid', 'date']).agg(\n",
    "    {'bus': 'sum', 'car': 'sum', 'cycle': 'sum', 'walks': 'sum', 'stationary': 'sum'}).reset_index()\n",
    "\n",
    "lsoa = '/Users/zonghe/Library/CloudStorage/OneDrive-UniversityCollegeLondon/Zonghe Ma/Raw data/London administrative boundaries/london_LSOA/london_LSOA.shp'\n",
    "\n",
    "inoutter = '/Users/zonghe/Library/CloudStorage/OneDrive-UniversityCollegeLondon/Zonghe Ma/Raw data/London administrative boundaries/lp-consultation-oct-2009-inner-outer-london-shp/lp-consultation-oct-2009-inner-outer-london.shp'\n",
    "# tube_line = 'https://raw.githubusercontent.com/oobrien/vis/master/tubecreature/data/tfl_lines.json'\n",
    "# tube_station = 'https://raw.githubusercontent.com/oobrien/vis/master/tubecreature/data/tfl_stations.json'\n",
    "\n",
    "inoutter = gpd.read_file(inoutter)\n",
    "inoutter.to_crs(epsg=27700, inplace=True)\n",
    "\n",
    "# tube_station = gpd.read_file(tube_station)\n",
    "# tube_station.to_crs(epsg=27700, inplace=True)\n",
    "# tube_station = gpd.sjoin(tube_station, inoutter, op='within')\n",
    "\n",
    "# tube_line = gpd.read_file(tube_line)\n",
    "# tube_line.to_crs(epsg=27700, inplace=True)\n",
    "# tube_line = gpd.sjoin(tube_line, inoutter, op='within')\n",
    "\n",
    "lsoa = gpd.read_file(lsoa, crs={'init': 'epsg:27700'})\n",
    "road_network = gpd.read_file(road_network, crs={'init': 'epsg:27700'})\n",
    "road_network.rename(columns={'NAME': 'boroughs'}, inplace=True)\n",
    "road_network.loc[:, ['cycle_lane', 'bus_lane']] = road_network[['cycle_lane', 'bus_lane']].fillna('n')\n",
    "\n",
    "\n",
    "# clean the traffic flow data\n",
    "traffic_flows = traffic_flows.drop_duplicates(['toid', 'date'])\n",
    "traffic_flows = traffic_flows.groupby(['toid', 'date']).agg(\n",
    "    {'bus': 'sum', 'car': 'sum', 'cycle': 'sum', 'walks': 'sum', 'stationary': 'sum'}).reset_index()\n",
    "traffic_flows['total'] = traffic_flows['bus'] + traffic_flows['car'] + traffic_flows['cycle'] + traffic_flows[\n",
    "    'walks'] + traffic_flows['stationary']\n",
    "\n",
    "flows = pd.merge(\n",
    "    road_network[\n",
    "        ['toid', 'roadclassi', 'geometry', 'cycle_lane', 'bus_lane', 'boroughs']],\n",
    "    traffic_flows, left_on='toid', right_on='toid', how='left')\n",
    "flows.set_geometry('geometry', inplace=True)\n",
    "\n",
    "flows['classification'] = flows['roadclassi'].replace(\n",
    "    {'Unknown': 'Local Road', 'Not Classified': 'Local Road', 'Unclassified': 'Local Road',\n",
    "     'Classified Unnumbered': 'Local Road', 'A Road': 'Strategic Road', 'B Road': 'Strategic Road'})\n",
    "\n",
    "flows.drop(columns=['roadclassi'], inplace=True)\n",
    "\n",
    "stage_date = ['03/01/22', '02/22/22', '03/08/22']\n",
    "flows = flows.loc[flows['date'].isin(stage_date)]\n",
    "\n",
    "# label the regional level\n",
    "flows = gpd.sjoin(flows, inoutter, how='inner', predicate='within')\n",
    "flows = flows.drop(columns=['index_right', 'Source', 'Area_Ha', 'Shape_Leng', 'Shape_Area'])\n",
    "flows.reset_index(drop=True, inplace=True)\n",
    "\n",
    "\n",
    "merged = flows\n",
    "flows = merged\n",
    "\n",
    "# convert the dataframe\n",
    "flows = pd.melt(flows,\n",
    "                id_vars=['toid', 'classification', 'geometry', 'date', 'Boundary', 'cycle_lane', 'bus_lane',\n",
    "                         'boroughs'],\n",
    "                var_name='mode', value_name='flow')\n",
    "\n",
    "flows = pd.pivot_table(flows,\n",
    "                       index=['toid', 'classification', 'geometry', 'Boundary', 'mode', 'cycle_lane', 'bus_lane',\n",
    "                              'boroughs'],\n",
    "                       columns='date',\n",
    "                       values='flow',\n",
    "                       aggfunc='first').reset_index()\n",
    "\n",
    "\n",
    "flows = flows.groupby(\n",
    "    ['toid', 'mode', 'classification', 'geometry', 'Boundary', 'cycle_lane', 'bus_lane', 'boroughs'],\n",
    "    as_index=False).agg(\n",
    "    {'03/01/22': 'first', '02/22/22': 'first', '03/08/22': 'first'})\n",
    "# Calculate the impact and recovery flows for one strike\n",
    "flows['impact_flow'] = flows['03/01/22'] - flows['02/22/22']\n",
    "flows['recovery_flow'] = flows['03/08/22'] - flows['03/01/22']\n",
    "\n",
    "# Calculate impact rate while avoiding division by zero\n",
    "flows['impact_rate'] = flows.apply(\n",
    "    lambda row: round(row['impact_flow'] / row['02/22/22'], 4) if row['02/22/22'] != 0 else 0, axis=1)\n",
    "# Calculate recovery rate while avoiding division by zero\n",
    "flows['recovery_rate'] = flows.apply(\n",
    "    lambda row: round(row['recovery_flow'] / row['03/01/22'], 4) if row['03/01/22'] != 0 else 0, axis=1)\n",
    "\n",
    "All = flows.copy()\n",
    "All"
   ],
   "metadata": {
    "collapsed": false,
    "ExecuteTime": {
     "start_time": "2023-08-13T21:55:13.741787Z"
    }
   },
   "id": "initial_id"
  },
  {
   "cell_type": "code",
   "execution_count": 3,
   "outputs": [
    {
     "data": {
      "text/plain": "     Total Flows   mode  classification      Boundary                boroughs  \\\n0    Total Flows    Bus      Local Road  Inner London                  Camden   \n1    Total Flows    Bus      Local Road  Inner London          City Of London   \n2    Total Flows    Bus      Local Road  Inner London               Greenwich   \n3    Total Flows    Bus      Local Road  Inner London                 Hackney   \n4    Total Flows    Bus      Local Road  Inner London  Hammersmith And Fulham   \n..           ...    ...             ...           ...                     ...   \n451  Total Flows  Walks  Strategic Road  Outer London                  Merton   \n452  Total Flows  Walks  Strategic Road  Outer London               Redbridge   \n453  Total Flows  Walks  Strategic Road  Outer London    Richmond Upon Thames   \n454  Total Flows  Walks  Strategic Road  Outer London                  Sutton   \n455  Total Flows  Walks  Strategic Road  Outer London          Waltham Forest   \n\n     03/01/22  02/22/22  03/08/22 cycle_lane bus_lane  impact_flow  \\\n0    0.010747  0.022021  0.022628          N        N     0.785132   \n1    0.005768  0.009165  0.010165          N        N     0.822392   \n2    0.013020  0.014118  0.013313          N        N     0.834164   \n3    0.008178  0.008614  0.010117          N        N     0.836835   \n4    0.007074  0.007902  0.008053          N        N     0.834845   \n..        ...       ...       ...        ...      ...          ...   \n451  0.041204  0.042459  0.043669          N        N     0.836309   \n452  0.035988  0.040284  0.038932          N        N     0.821186   \n453  0.044425  0.049097  0.049141          N        N     0.820258   \n454  0.036153  0.038690  0.037542          N        N     0.829642   \n455  0.035623  0.035650  0.035166          N        N     0.841621   \n\n     recovery_flow  impact_rate  recovery_rate  \n0         0.288018     0.166167       0.901885  \n1         0.245652     0.214267       0.743829  \n2         0.220209     0.314000       0.402842  \n3         0.230842     0.323233       0.501770  \n4         0.225510     0.304800       0.456276  \n..             ...          ...            ...  \n451       0.226583     0.330433       0.420015  \n452       0.230525     0.304167       0.430157  \n453       0.238942     0.308100       0.441351  \n454       0.221453     0.318167       0.410161  \n455       0.210852     0.340233       0.386577  \n\n[380 rows x 14 columns]",
      "text/html": "<div>\n<style scoped>\n    .dataframe tbody tr th:only-of-type {\n        vertical-align: middle;\n    }\n\n    .dataframe tbody tr th {\n        vertical-align: top;\n    }\n\n    .dataframe thead th {\n        text-align: right;\n    }\n</style>\n<table border=\"1\" class=\"dataframe\">\n  <thead>\n    <tr style=\"text-align: right;\">\n      <th></th>\n      <th>Total Flows</th>\n      <th>mode</th>\n      <th>classification</th>\n      <th>Boundary</th>\n      <th>boroughs</th>\n      <th>03/01/22</th>\n      <th>02/22/22</th>\n      <th>03/08/22</th>\n      <th>cycle_lane</th>\n      <th>bus_lane</th>\n      <th>impact_flow</th>\n      <th>recovery_flow</th>\n      <th>impact_rate</th>\n      <th>recovery_rate</th>\n    </tr>\n  </thead>\n  <tbody>\n    <tr>\n      <th>0</th>\n      <td>Total Flows</td>\n      <td>Bus</td>\n      <td>Local Road</td>\n      <td>Inner London</td>\n      <td>Camden</td>\n      <td>0.010747</td>\n      <td>0.022021</td>\n      <td>0.022628</td>\n      <td>N</td>\n      <td>N</td>\n      <td>0.785132</td>\n      <td>0.288018</td>\n      <td>0.166167</td>\n      <td>0.901885</td>\n    </tr>\n    <tr>\n      <th>1</th>\n      <td>Total Flows</td>\n      <td>Bus</td>\n      <td>Local Road</td>\n      <td>Inner London</td>\n      <td>City Of London</td>\n      <td>0.005768</td>\n      <td>0.009165</td>\n      <td>0.010165</td>\n      <td>N</td>\n      <td>N</td>\n      <td>0.822392</td>\n      <td>0.245652</td>\n      <td>0.214267</td>\n      <td>0.743829</td>\n    </tr>\n    <tr>\n      <th>2</th>\n      <td>Total Flows</td>\n      <td>Bus</td>\n      <td>Local Road</td>\n      <td>Inner London</td>\n      <td>Greenwich</td>\n      <td>0.013020</td>\n      <td>0.014118</td>\n      <td>0.013313</td>\n      <td>N</td>\n      <td>N</td>\n      <td>0.834164</td>\n      <td>0.220209</td>\n      <td>0.314000</td>\n      <td>0.402842</td>\n    </tr>\n    <tr>\n      <th>3</th>\n      <td>Total Flows</td>\n      <td>Bus</td>\n      <td>Local Road</td>\n      <td>Inner London</td>\n      <td>Hackney</td>\n      <td>0.008178</td>\n      <td>0.008614</td>\n      <td>0.010117</td>\n      <td>N</td>\n      <td>N</td>\n      <td>0.836835</td>\n      <td>0.230842</td>\n      <td>0.323233</td>\n      <td>0.501770</td>\n    </tr>\n    <tr>\n      <th>4</th>\n      <td>Total Flows</td>\n      <td>Bus</td>\n      <td>Local Road</td>\n      <td>Inner London</td>\n      <td>Hammersmith And Fulham</td>\n      <td>0.007074</td>\n      <td>0.007902</td>\n      <td>0.008053</td>\n      <td>N</td>\n      <td>N</td>\n      <td>0.834845</td>\n      <td>0.225510</td>\n      <td>0.304800</td>\n      <td>0.456276</td>\n    </tr>\n    <tr>\n      <th>...</th>\n      <td>...</td>\n      <td>...</td>\n      <td>...</td>\n      <td>...</td>\n      <td>...</td>\n      <td>...</td>\n      <td>...</td>\n      <td>...</td>\n      <td>...</td>\n      <td>...</td>\n      <td>...</td>\n      <td>...</td>\n      <td>...</td>\n      <td>...</td>\n    </tr>\n    <tr>\n      <th>451</th>\n      <td>Total Flows</td>\n      <td>Walks</td>\n      <td>Strategic Road</td>\n      <td>Outer London</td>\n      <td>Merton</td>\n      <td>0.041204</td>\n      <td>0.042459</td>\n      <td>0.043669</td>\n      <td>N</td>\n      <td>N</td>\n      <td>0.836309</td>\n      <td>0.226583</td>\n      <td>0.330433</td>\n      <td>0.420015</td>\n    </tr>\n    <tr>\n      <th>452</th>\n      <td>Total Flows</td>\n      <td>Walks</td>\n      <td>Strategic Road</td>\n      <td>Outer London</td>\n      <td>Redbridge</td>\n      <td>0.035988</td>\n      <td>0.040284</td>\n      <td>0.038932</td>\n      <td>N</td>\n      <td>N</td>\n      <td>0.821186</td>\n      <td>0.230525</td>\n      <td>0.304167</td>\n      <td>0.430157</td>\n    </tr>\n    <tr>\n      <th>453</th>\n      <td>Total Flows</td>\n      <td>Walks</td>\n      <td>Strategic Road</td>\n      <td>Outer London</td>\n      <td>Richmond Upon Thames</td>\n      <td>0.044425</td>\n      <td>0.049097</td>\n      <td>0.049141</td>\n      <td>N</td>\n      <td>N</td>\n      <td>0.820258</td>\n      <td>0.238942</td>\n      <td>0.308100</td>\n      <td>0.441351</td>\n    </tr>\n    <tr>\n      <th>454</th>\n      <td>Total Flows</td>\n      <td>Walks</td>\n      <td>Strategic Road</td>\n      <td>Outer London</td>\n      <td>Sutton</td>\n      <td>0.036153</td>\n      <td>0.038690</td>\n      <td>0.037542</td>\n      <td>N</td>\n      <td>N</td>\n      <td>0.829642</td>\n      <td>0.221453</td>\n      <td>0.318167</td>\n      <td>0.410161</td>\n    </tr>\n    <tr>\n      <th>455</th>\n      <td>Total Flows</td>\n      <td>Walks</td>\n      <td>Strategic Road</td>\n      <td>Outer London</td>\n      <td>Waltham Forest</td>\n      <td>0.035623</td>\n      <td>0.035650</td>\n      <td>0.035166</td>\n      <td>N</td>\n      <td>N</td>\n      <td>0.841621</td>\n      <td>0.210852</td>\n      <td>0.340233</td>\n      <td>0.386577</td>\n    </tr>\n  </tbody>\n</table>\n<p>380 rows × 14 columns</p>\n</div>"
     },
     "execution_count": 3,
     "metadata": {},
     "output_type": "execute_result"
    }
   ],
   "source": [],
   "metadata": {
    "collapsed": false,
    "ExecuteTime": {
     "start_time": "2023-08-13T22:00:13.564521Z"
    }
   },
   "id": "55dd9fb9f192d24f"
  }
 ],
 "metadata": {
  "kernelspec": {
   "display_name": "Python 3",
   "language": "python",
   "name": "python3"
  },
  "language_info": {
   "codemirror_mode": {
    "name": "ipython",
    "version": 2
   },
   "file_extension": ".py",
   "mimetype": "text/x-python",
   "name": "python",
   "nbconvert_exporter": "python",
   "pygments_lexer": "ipython2",
   "version": "2.7.6"
  }
 },
 "nbformat": 4,
 "nbformat_minor": 5
}
